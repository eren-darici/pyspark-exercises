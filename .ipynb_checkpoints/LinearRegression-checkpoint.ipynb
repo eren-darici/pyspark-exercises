{
 "cells": [
  {
   "cell_type": "markdown",
   "id": "748956a8",
   "metadata": {},
   "source": [
    "## Imports"
   ]
  },
  {
   "cell_type": "code",
   "execution_count": 1,
   "id": "adc4a1a3",
   "metadata": {},
   "outputs": [],
   "source": [
    "import findspark\n",
    "findspark.init('/home/floxyploxy/spark-3.1.2-bin-hadoop3.2')"
   ]
  },
  {
   "cell_type": "code",
   "execution_count": 2,
   "id": "86bd9350",
   "metadata": {},
   "outputs": [],
   "source": [
    "from pyspark.sql import SparkSession"
   ]
  },
  {
   "cell_type": "code",
   "execution_count": 3,
   "id": "c13ffa58",
   "metadata": {},
   "outputs": [],
   "source": [
    "from pyspark.ml.regression import LinearRegression"
   ]
  },
  {
   "cell_type": "markdown",
   "id": "ada9adab",
   "metadata": {},
   "source": [
    "## Create a Session"
   ]
  },
  {
   "cell_type": "code",
   "execution_count": 4,
   "id": "2254cdef",
   "metadata": {},
   "outputs": [],
   "source": [
    "spark = SparkSession.builder.appName('linreg').getOrCreate()"
   ]
  },
  {
   "cell_type": "markdown",
   "id": "1a990324",
   "metadata": {},
   "source": [
    "## Read Data"
   ]
  },
  {
   "cell_type": "code",
   "execution_count": 5,
   "id": "e033ad96",
   "metadata": {},
   "outputs": [],
   "source": [
    "data = spark.read.csv('data/Ecommerce_Customers.csv', inferSchema=True, header=True)"
   ]
  },
  {
   "cell_type": "code",
   "execution_count": 6,
   "id": "fb3d7183",
   "metadata": {},
   "outputs": [
    {
     "name": "stdout",
     "output_type": "stream",
     "text": [
      "root\n",
      " |-- Email: string (nullable = true)\n",
      " |-- Address: string (nullable = true)\n",
      " |-- Avatar: string (nullable = true)\n",
      " |-- Avg Session Length: double (nullable = true)\n",
      " |-- Time on App: double (nullable = true)\n",
      " |-- Time on Website: double (nullable = true)\n",
      " |-- Length of Membership: double (nullable = true)\n",
      " |-- Yearly Amount Spent: double (nullable = true)\n",
      "\n"
     ]
    }
   ],
   "source": [
    "data.printSchema()"
   ]
  },
  {
   "cell_type": "code",
   "execution_count": 7,
   "id": "e22b6265",
   "metadata": {},
   "outputs": [
    {
     "data": {
      "text/plain": [
       "[Row(Email='mstephenson@fernandez.com', Address='835 Frank TunnelWrightmouth, MI 82180-9605', Avatar='Violet', Avg Session Length=34.49726772511229, Time on App=12.65565114916675, Time on Website=39.57766801952616, Length of Membership=4.0826206329529615, Yearly Amount Spent=587.9510539684005)]"
      ]
     },
     "execution_count": 7,
     "metadata": {},
     "output_type": "execute_result"
    }
   ],
   "source": [
    "data.head(1)"
   ]
  },
  {
   "cell_type": "markdown",
   "id": "89841361",
   "metadata": {},
   "source": [
    "## MLlib Imports"
   ]
  },
  {
   "cell_type": "code",
   "execution_count": 8,
   "id": "2dba0800",
   "metadata": {},
   "outputs": [],
   "source": [
    "from pyspark.ml.linalg import Vectors\n",
    "from pyspark.ml.feature import VectorAssembler"
   ]
  },
  {
   "cell_type": "markdown",
   "id": "b88a6682",
   "metadata": {},
   "source": [
    "## Data Transformation"
   ]
  },
  {
   "cell_type": "code",
   "execution_count": 9,
   "id": "c7adc981",
   "metadata": {},
   "outputs": [
    {
     "data": {
      "text/plain": [
       "['Email',\n",
       " 'Address',\n",
       " 'Avatar',\n",
       " 'Avg Session Length',\n",
       " 'Time on App',\n",
       " 'Time on Website',\n",
       " 'Length of Membership',\n",
       " 'Yearly Amount Spent']"
      ]
     },
     "execution_count": 9,
     "metadata": {},
     "output_type": "execute_result"
    }
   ],
   "source": [
    "data.columns"
   ]
  },
  {
   "cell_type": "code",
   "execution_count": 10,
   "id": "2e0c8a9a",
   "metadata": {},
   "outputs": [],
   "source": [
    "assembler = VectorAssembler(inputCols=['Avg Session Length',\n",
    "                                       'Time on App',\n",
    "                                       'Time on Website',\n",
    "                                       'Length of Membership'],\n",
    "                            outputCol='features')"
   ]
  },
  {
   "cell_type": "code",
   "execution_count": 11,
   "id": "100c6fa3",
   "metadata": {},
   "outputs": [],
   "source": [
    "output = assembler.transform(data)"
   ]
  },
  {
   "cell_type": "code",
   "execution_count": 12,
   "id": "de0a0951",
   "metadata": {},
   "outputs": [
    {
     "name": "stdout",
     "output_type": "stream",
     "text": [
      "root\n",
      " |-- Email: string (nullable = true)\n",
      " |-- Address: string (nullable = true)\n",
      " |-- Avatar: string (nullable = true)\n",
      " |-- Avg Session Length: double (nullable = true)\n",
      " |-- Time on App: double (nullable = true)\n",
      " |-- Time on Website: double (nullable = true)\n",
      " |-- Length of Membership: double (nullable = true)\n",
      " |-- Yearly Amount Spent: double (nullable = true)\n",
      " |-- features: vector (nullable = true)\n",
      "\n"
     ]
    }
   ],
   "source": [
    "output.printSchema()"
   ]
  },
  {
   "cell_type": "code",
   "execution_count": 13,
   "id": "452ec2f6",
   "metadata": {},
   "outputs": [
    {
     "data": {
      "text/plain": [
       "[Row(Email='mstephenson@fernandez.com', Address='835 Frank TunnelWrightmouth, MI 82180-9605', Avatar='Violet', Avg Session Length=34.49726772511229, Time on App=12.65565114916675, Time on Website=39.57766801952616, Length of Membership=4.0826206329529615, Yearly Amount Spent=587.9510539684005, features=DenseVector([34.4973, 12.6557, 39.5777, 4.0826]))]"
      ]
     },
     "execution_count": 13,
     "metadata": {},
     "output_type": "execute_result"
    }
   ],
   "source": [
    "output.head(1)"
   ]
  },
  {
   "cell_type": "code",
   "execution_count": 14,
   "id": "4c256bc7",
   "metadata": {},
   "outputs": [
    {
     "name": "stdout",
     "output_type": "stream",
     "text": [
      "+--------------------+-------------------+\n",
      "|            features|Yearly Amount Spent|\n",
      "+--------------------+-------------------+\n",
      "|[34.4972677251122...|  587.9510539684005|\n",
      "|[31.9262720263601...|  392.2049334443264|\n",
      "|[33.0009147556426...| 487.54750486747207|\n",
      "|[34.3055566297555...|  581.8523440352177|\n",
      "|[33.3306725236463...|  599.4060920457634|\n",
      "|[33.8710378793419...|   637.102447915074|\n",
      "|[32.0215955013870...|  521.5721747578274|\n",
      "|[32.7391429383803...|  549.9041461052942|\n",
      "|[33.9877728956856...|  570.2004089636196|\n",
      "|[31.9365486184489...|  427.1993848953282|\n",
      "|[33.9925727749537...|  492.6060127179966|\n",
      "|[33.8793608248049...|  522.3374046069357|\n",
      "|[29.5324289670579...|  408.6403510726275|\n",
      "|[33.1903340437226...|  573.4158673313865|\n",
      "|[32.3879758531538...|  470.4527333009554|\n",
      "|[30.7377203726281...|  461.7807421962299|\n",
      "|[32.1253868972878...| 457.84769594494855|\n",
      "|[32.3388993230671...| 407.70454754954415|\n",
      "|[32.1878120459321...|  452.3156754800354|\n",
      "|[32.6178560628234...|   605.061038804892|\n",
      "+--------------------+-------------------+\n",
      "only showing top 20 rows\n",
      "\n"
     ]
    }
   ],
   "source": [
    "final_data = output.select('features', 'Yearly Amount Spent')\n",
    "final_data.show()"
   ]
  },
  {
   "cell_type": "markdown",
   "id": "fea7c8ed",
   "metadata": {},
   "source": [
    "## Train Test Split"
   ]
  },
  {
   "cell_type": "code",
   "execution_count": 15,
   "id": "4ab6a10e",
   "metadata": {},
   "outputs": [],
   "source": [
    "train_data, test_data = final_data.randomSplit([0.7, 0.3])"
   ]
  },
  {
   "cell_type": "code",
   "execution_count": 16,
   "id": "6f8dc643",
   "metadata": {},
   "outputs": [
    {
     "name": "stdout",
     "output_type": "stream",
     "text": [
      "+-------+-------------------+\n",
      "|summary|Yearly Amount Spent|\n",
      "+-------+-------------------+\n",
      "|  count|                354|\n",
      "|   mean|  497.9934551049344|\n",
      "| stddev|  77.89850425338057|\n",
      "|    min| 256.67058229005585|\n",
      "|    max|  744.2218671047146|\n",
      "+-------+-------------------+\n",
      "\n"
     ]
    }
   ],
   "source": [
    "train_data.describe().show()"
   ]
  },
  {
   "cell_type": "code",
   "execution_count": 17,
   "id": "24e4dca2",
   "metadata": {},
   "outputs": [
    {
     "name": "stdout",
     "output_type": "stream",
     "text": [
      "+-------+-------------------+\n",
      "|summary|Yearly Amount Spent|\n",
      "+-------+-------------------+\n",
      "|  count|                146|\n",
      "|   mean| 502.51600015170317|\n",
      "| stddev|  82.83534788068738|\n",
      "|    min|  275.9184206503857|\n",
      "|    max|  765.5184619388373|\n",
      "+-------+-------------------+\n",
      "\n"
     ]
    }
   ],
   "source": [
    "test_data.describe().show()"
   ]
  },
  {
   "cell_type": "markdown",
   "id": "fc74caca",
   "metadata": {},
   "source": [
    "## Model"
   ]
  },
  {
   "cell_type": "code",
   "execution_count": 18,
   "id": "8f86b38a",
   "metadata": {},
   "outputs": [],
   "source": [
    "lr = LinearRegression(labelCol='Yearly Amount Spent')"
   ]
  },
  {
   "cell_type": "code",
   "execution_count": 19,
   "id": "a3810497",
   "metadata": {},
   "outputs": [],
   "source": [
    "lr_model = lr.fit(train_data)"
   ]
  },
  {
   "cell_type": "code",
   "execution_count": 20,
   "id": "4824f4db",
   "metadata": {},
   "outputs": [],
   "source": [
    "test_results = lr_model.evaluate(test_data)"
   ]
  },
  {
   "cell_type": "code",
   "execution_count": 21,
   "id": "926e4012",
   "metadata": {},
   "outputs": [
    {
     "name": "stdout",
     "output_type": "stream",
     "text": [
      "+-------------------+\n",
      "|          residuals|\n",
      "+-------------------+\n",
      "|  12.56481839922958|\n",
      "| 1.6743920468233568|\n",
      "| 12.344428936048075|\n",
      "|  8.087544431690276|\n",
      "|-20.181189342605762|\n",
      "| 11.928506870104457|\n",
      "|  0.750361122940717|\n",
      "| -2.539774981668188|\n",
      "| 23.311500786678835|\n",
      "| 20.010588807644183|\n",
      "|  4.824964103353182|\n",
      "|  4.098339182759162|\n",
      "| -3.259996023453425|\n",
      "|-13.249952951834757|\n",
      "|-0.6573160842135053|\n",
      "| 12.090948671619913|\n",
      "| -5.007798955136536|\n",
      "|  6.413782824818895|\n",
      "|  6.003915447035524|\n",
      "| -7.919632682135443|\n",
      "+-------------------+\n",
      "only showing top 20 rows\n",
      "\n"
     ]
    }
   ],
   "source": [
    "test_results.residuals.show()"
   ]
  },
  {
   "cell_type": "code",
   "execution_count": 22,
   "id": "0f032446",
   "metadata": {},
   "outputs": [
    {
     "data": {
      "text/plain": [
       "9.826557997100126"
      ]
     },
     "execution_count": 22,
     "metadata": {},
     "output_type": "execute_result"
    }
   ],
   "source": [
    "test_results.rootMeanSquaredError"
   ]
  },
  {
   "cell_type": "code",
   "execution_count": 23,
   "id": "056f35e8",
   "metadata": {},
   "outputs": [
    {
     "data": {
      "text/plain": [
       "0.9858304422339313"
      ]
     },
     "execution_count": 23,
     "metadata": {},
     "output_type": "execute_result"
    }
   ],
   "source": [
    "test_results.r2"
   ]
  },
  {
   "cell_type": "markdown",
   "id": "c523dc81",
   "metadata": {},
   "source": [
    "## Unlabeled"
   ]
  },
  {
   "cell_type": "code",
   "execution_count": 24,
   "id": "04e8ebe5",
   "metadata": {},
   "outputs": [],
   "source": [
    "unlabeled_data = test_data.select('features')"
   ]
  },
  {
   "cell_type": "code",
   "execution_count": 25,
   "id": "ce472d2d",
   "metadata": {},
   "outputs": [
    {
     "name": "stdout",
     "output_type": "stream",
     "text": [
      "+--------------------+\n",
      "|            features|\n",
      "+--------------------+\n",
      "|[29.5324289670579...|\n",
      "|[30.5743636841713...|\n",
      "|[30.7377203726281...|\n",
      "|[30.9716756438877...|\n",
      "|[31.1239743499119...|\n",
      "|[31.1695067987115...|\n",
      "|[31.2606468698795...|\n",
      "|[31.2681042107507...|\n",
      "|[31.2834474760581...|\n",
      "|[31.3123495994443...|\n",
      "|[31.3662121671876...|\n",
      "|[31.4459724827577...|\n",
      "|[31.5171218025062...|\n",
      "|[31.5741380228732...|\n",
      "|[31.7216523605090...|\n",
      "|[31.9096268275227...|\n",
      "|[31.9453957483445...|\n",
      "|[31.9480174211613...|\n",
      "|[31.9764800614612...|\n",
      "|[32.0085045178551...|\n",
      "+--------------------+\n",
      "only showing top 20 rows\n",
      "\n"
     ]
    }
   ],
   "source": [
    "unlabeled_data.show()"
   ]
  },
  {
   "cell_type": "code",
   "execution_count": 26,
   "id": "2eeaae28",
   "metadata": {},
   "outputs": [],
   "source": [
    "predictions = lr_model.transform(unlabeled_data)"
   ]
  },
  {
   "cell_type": "code",
   "execution_count": 27,
   "id": "13add785",
   "metadata": {},
   "outputs": [
    {
     "name": "stdout",
     "output_type": "stream",
     "text": [
      "+--------------------+------------------+\n",
      "|            features|        prediction|\n",
      "+--------------------+------------------+\n",
      "|[29.5324289670579...| 396.0755326733979|\n",
      "|[30.5743636841713...| 440.3900217112423|\n",
      "|[30.7377203726281...| 449.4363132601818|\n",
      "|[30.9716756438877...|486.55106532520244|\n",
      "|[31.1239743499119...|507.12824318237153|\n",
      "|[31.1695067987115...|415.42802393218835|\n",
      "|[31.2606468698795...|420.57627013401066|\n",
      "|[31.2681042107507...| 426.0103081554921|\n",
      "|[31.2834474760581...| 568.4695886389886|\n",
      "|[31.3123495994443...|443.58082922029644|\n",
      "|[31.3662121671876...|425.76391845313174|\n",
      "|[31.4459724827577...| 480.7786257523694|\n",
      "|[31.5171218025062...|279.17841667383914|\n",
      "|[31.5741380228732...| 557.6592251124216|\n",
      "|[31.7216523605090...|348.43424271608615|\n",
      "|[31.9096268275227...| 551.3550870016193|\n",
      "|[31.9453957483445...| 662.0277228927885|\n",
      "|[31.9480174211613...| 455.5070940680789|\n",
      "|[31.9764800614612...| 324.5905305870647|\n",
      "|[32.0085045178551...|451.11685371089084|\n",
      "+--------------------+------------------+\n",
      "only showing top 20 rows\n",
      "\n"
     ]
    }
   ],
   "source": [
    "predictions.show()"
   ]
  },
  {
   "cell_type": "code",
   "execution_count": null,
   "id": "d824a95b",
   "metadata": {},
   "outputs": [],
   "source": []
  }
 ],
 "metadata": {
  "kernelspec": {
   "display_name": "Python 3",
   "language": "python",
   "name": "python3"
  },
  "language_info": {
   "codemirror_mode": {
    "name": "ipython",
    "version": 3
   },
   "file_extension": ".py",
   "mimetype": "text/x-python",
   "name": "python",
   "nbconvert_exporter": "python",
   "pygments_lexer": "ipython3",
   "version": "3.8.5"
  }
 },
 "nbformat": 4,
 "nbformat_minor": 5
}
